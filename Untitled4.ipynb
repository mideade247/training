{
 "cells": [
  {
   "cell_type": "markdown",
   "id": "d40c4715-2d44-4f5c-9a69-ae13e3ec803a",
   "metadata": {},
   "source": [
    "# ASSIGNMENT"
   ]
  },
  {
   "cell_type": "raw",
   "id": "3f0c671f-266e-4634-ba36-4b901936d2a1",
   "metadata": {},
   "source": [
    "Write a Python program (without using any external libraries) to:\n",
    "Read regression_training.csv and extract Hours_Study (X) and Marks (Y).\n",
    "Calculate slope m and intercept b using the linear regression formulas.\n",
    "Predict Marks for the regression_test.csv values of Hours_Study.\n",
    "Print the regression equation and predicted results.\n",
    "\n",
    "\n",
    "regression_test.csv\n",
    "regression_training.csv\n",
    " "
   ]
  },
  {
   "cell_type": "code",
   "execution_count": 76,
   "id": "2d0d1256-8466-4587-bfd1-d804adf8656b",
   "metadata": {},
   "outputs": [
    {
     "name": "stdout",
     "output_type": "stream",
     "text": [
      "['Hours_Study,Hours_Sleep,Extra_Classes,Marks\\n', '1,6,0,32\\n', '2,5,0,35\\n', '2,6,1,42\\n', '3,5,0,40\\n', '3,7,1,48\\n', '4,6,0,46\\n', '4,7,1,55\\n', '5,5,0,50\\n', '5,6,1,58\\n', '6,7,0,60\\n', '6,6,1,62\\n', '7,5,0,61\\n', '7,6,1,68\\n', '8,7,0,70\\n', '8,6,1,72\\n', '9,5,0,69\\n', '9,7,1,78\\n', '10,6,0,75\\n', '10,7,1,83\\n', '11,6,1,85\\n']\n"
     ]
    }
   ],
   "source": [
    "with open(\"regression_training.csv\") as r:\n",
    "    data = r.readlines()\n",
    "    print(data)"
   ]
  },
  {
   "cell_type": "code",
   "execution_count": 77,
   "id": "1ded6f63-3a65-43d2-a3ab-b28388013ae1",
   "metadata": {},
   "outputs": [
    {
     "name": "stdout",
     "output_type": "stream",
     "text": [
      "['Hours_Study', 'Hours_Sleep', 'Extra_Classes', 'Marks']\n"
     ]
    }
   ],
   "source": [
    "The_header = data[0].strip().split(\",\")  # Just to print the header\n",
    "print(The_header)"
   ]
  },
  {
   "cell_type": "code",
   "execution_count": 78,
   "id": "fc8d2d7d-d780-4dcc-a653-11c680aa56f3",
   "metadata": {},
   "outputs": [
    {
     "name": "stdout",
     "output_type": "stream",
     "text": [
      "['1', '2', '2', '3', '3', '4', '4', '5', '5', '6', '6', '7', '7', '8', '8', '9', '9', '10', '10', '11']\n",
      "['32', '35', '42', '40', '48', '46', '55', '50', '58', '60', '62', '61', '68', '70', '72', '69', '78', '75', '83', '85']\n"
     ]
    }
   ],
   "source": [
    "#Extracting data\n",
    "Hours_index = The_header.index(\"Hours_Study\")\n",
    "Marks_index = The_header.index(\"Marks\")\n",
    "Hours_Study = []\n",
    "Marks = []\n",
    "\n",
    "for line in data[1:]:\n",
    "    body = line.strip().split(\",\")\n",
    "    Hours_Study.append(body[Hours_index])\n",
    "    Marks.append(body[Marks_index])\n",
    "print(Hours_Study)\n",
    "print(Marks)\n"
   ]
  },
  {
   "cell_type": "raw",
   "id": "54de3a3d-d23d-4839-9f29-48a5ab9aa2db",
   "metadata": {},
   "source": [
    "Regresion model is Y = mX + c\n",
    "where m is the slope \n",
    "m = sum(x -x_mean)(y-mean_y) / sum(x- x_mean)**2\n",
    "\n"
   ]
  },
  {
   "cell_type": "code",
   "execution_count": 79,
   "id": "7af73f55-a09f-4cc8-b1b4-d83de7dc6b57",
   "metadata": {},
   "outputs": [],
   "source": [
    "#calculate the mean and convert to int\n",
    "Hours_Study = [int(x) for x in Hours_Study]   # convert to integers\n",
    "Marks =[int(x) for x in Marks] # comnvert to integer\n",
    "\n",
    "\n",
    "#solving for the mean\n",
    "Hours_mean = sum(Hours_Study) / len (Hours_Study)\n",
    "Marks_mean = sum(Marks) / len(Marks)\n",
    "\n",
    "#calculate the slope, m\n",
    "m_upper = sum((Hours_Study[i] - Hours_mean) * (Marks[i] - Marks_mean) for i in range(len(Hours_Study)))\n",
    "m_lower = sum((Hours_Study[i] - Hours_mean) ** 2 for i in range(len(Hours_Study)))\n"
   ]
  },
  {
   "cell_type": "code",
   "execution_count": 80,
   "id": "f1c3b107-edcb-40ca-8685-12d2b3ccac2e",
   "metadata": {},
   "outputs": [
    {
     "name": "stdout",
     "output_type": "stream",
     "text": [
      "Y = 5.112 X + 28.78\n"
     ]
    }
   ],
   "source": [
    "m = m_upper/ m_lower\n",
    "\n",
    "#calculate the intercept, c\n",
    "c = Marks_mean - m * Hours_mean\n",
    "\n",
    "print(\"Y =\", round(m,3), \"X +\", round(c,2))"
   ]
  },
  {
   "cell_type": "markdown",
   "id": "60cd13c1-f17b-4631-a5b6-78a5b10edb2e",
   "metadata": {},
   "source": [
    "## Prediction Model on regression test"
   ]
  },
  {
   "cell_type": "code",
   "execution_count": 81,
   "id": "4264ef92-caff-412c-9f28-50dddbffe2dd",
   "metadata": {},
   "outputs": [
    {
     "data": {
      "text/plain": [
       "[3.0, 6.0, 8.0, 11.0]"
      ]
     },
     "execution_count": 81,
     "metadata": {},
     "output_type": "execute_result"
    }
   ],
   "source": [
    "test_hours"
   ]
  },
  {
   "cell_type": "code",
   "execution_count": 82,
   "id": "f1d1fcd4-d05e-4d87-a0b8-bc691871cc8e",
   "metadata": {},
   "outputs": [
    {
     "name": "stdout",
     "output_type": "stream",
     "text": [
      "This is the predicted result\n",
      "Hours_Study = 3.0, Predicted Marks = 44.12\n",
      "Hours_Study = 6.0, Predicted Marks = 59.45\n",
      "Hours_Study = 8.0, Predicted Marks = 69.68\n",
      "Hours_Study = 11.0, Predicted Marks = 85.01\n"
     ]
    }
   ],
   "source": [
    "print(\"This is the predicted result\")\n",
    "for x in test_hours:\n",
    "    y_pred = (5.112* x) + 28.78\n",
    "    print(f\"Hours_Study = {x}, Predicted Marks = {round(y_pred, 2)}\")\n",
    "    "
   ]
  },
  {
   "cell_type": "code",
   "execution_count": null,
   "id": "26099ee6-34ae-4af0-a02c-adc5cc231015",
   "metadata": {},
   "outputs": [],
   "source": []
  },
  {
   "cell_type": "code",
   "execution_count": null,
   "id": "5acb79d3-8278-47cb-834a-069f73ca8a99",
   "metadata": {},
   "outputs": [],
   "source": []
  },
  {
   "cell_type": "code",
   "execution_count": null,
   "id": "b1ea756d-b298-4cd6-a2be-a8ced81ceea8",
   "metadata": {},
   "outputs": [],
   "source": []
  }
 ],
 "metadata": {
  "kernelspec": {
   "display_name": "Python 3 (ipykernel)",
   "language": "python",
   "name": "python3"
  },
  "language_info": {
   "codemirror_mode": {
    "name": "ipython",
    "version": 3
   },
   "file_extension": ".py",
   "mimetype": "text/x-python",
   "name": "python",
   "nbconvert_exporter": "python",
   "pygments_lexer": "ipython3",
   "version": "3.13.7"
  }
 },
 "nbformat": 4,
 "nbformat_minor": 5
}
