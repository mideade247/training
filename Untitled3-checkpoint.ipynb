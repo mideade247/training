{
 "cells": [
  {
   "cell_type": "markdown",
   "id": "65658f27-c4ff-4070-8f60-f398cd20805c",
   "metadata": {},
   "source": [
    "# Workflow for SQL Query"
   ]
  },
  {
   "cell_type": "raw",
   "id": "227608a8-82a2-4a0c-b615-4400384ef946",
   "metadata": {},
   "source": [
    "1. Import packages and functions\n",
    "2. Create the database engine\n",
    "3. Connect to the ENGINE\n",
    "4. Query the databse\n",
    "5. Save Query Result to a Dataframe\n",
    "6. Close the conection"
   ]
  },
  {
   "cell_type": "code",
   "execution_count": null,
   "id": "c53f4c77-967c-48c4-bb43-e99835205f80",
   "metadata": {},
   "outputs": [],
   "source": []
  }
 ],
 "metadata": {
  "kernelspec": {
   "display_name": "Python 3 (ipykernel)",
   "language": "python",
   "name": "python3"
  },
  "language_info": {
   "codemirror_mode": {
    "name": "ipython",
    "version": 3
   },
   "file_extension": ".py",
   "mimetype": "text/x-python",
   "name": "python",
   "nbconvert_exporter": "python",
   "pygments_lexer": "ipython3",
   "version": "3.13.7"
  }
 },
 "nbformat": 4,
 "nbformat_minor": 5
}
