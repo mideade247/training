{
 "cells": [
  {
   "cell_type": "code",
   "execution_count": 2,
   "id": "390ec37f-a92f-49e5-8f5f-ad94f34dcfa3",
   "metadata": {},
   "outputs": [],
   "source": [
    "from sklearn.model_selection import StratifiedKFold\n",
    "import numpy as np"
   ]
  },
  {
   "cell_type": "code",
   "execution_count": 3,
   "id": "4392ce28-1fc4-47cb-8fe1-c25f50ff0f62",
   "metadata": {},
   "outputs": [],
   "source": [
    "X = np.array([[i] for i in range (10)])\n",
    "y= np.array([0, 0, 0, 0, 0, 1, 1, 1, 1, 1])"
   ]
  },
  {
   "cell_type": "code",
   "execution_count": 7,
   "id": "1dbb58a0-8f5a-4a17-be39-f64458aa1a9d",
   "metadata": {},
   "outputs": [],
   "source": [
    "skf = StratifiedKFold(n_splits = 5, shuffle = True, random_state = 42)"
   ]
  },
  {
   "cell_type": "code",
   "execution_count": 8,
   "id": "f6f05125-7ee8-4925-8ab1-427b5373baed",
   "metadata": {},
   "outputs": [
    {
     "name": "stdout",
     "output_type": "stream",
     "text": [
      "Train: [0 1 2 4 5 6 7 9] Test : [3 8]\n",
      "y_train distribution :  [4 4]\n",
      "y_test distribution : [1 1]\n",
      "\n",
      "Train: [1 2 3 4 5 7 8 9] Test : [0 6]\n",
      "y_train distribution :  [4 4]\n",
      "y_test distribution : [1 1]\n",
      "\n",
      "Train: [0 1 3 4 5 6 8 9] Test : [2 7]\n",
      "y_train distribution :  [4 4]\n",
      "y_test distribution : [1 1]\n",
      "\n",
      "Train: [0 1 2 3 6 7 8 9] Test : [4 5]\n",
      "y_train distribution :  [4 4]\n",
      "y_test distribution : [1 1]\n",
      "\n",
      "Train: [0 2 3 4 5 6 7 8] Test : [1 9]\n",
      "y_train distribution :  [4 4]\n",
      "y_test distribution : [1 1]\n",
      "\n"
     ]
    }
   ],
   "source": [
    "for train_index, test_index in skf.split(X,y):\n",
    "    print(\"Train:\", train_index, \"Test :\", test_index)\n",
    "    print(\"y_train distribution : \", np.bincount(y[train_index]))\n",
    "    print(\"y_test distribution :\", np.bincount(y[test_index]))\n",
    "    print()"
   ]
  },
  {
   "cell_type": "code",
   "execution_count": null,
   "id": "e77a1d5d-33d0-449e-8c37-6266cb5f837a",
   "metadata": {},
   "outputs": [],
   "source": [
    "Variable importance\n",
    "underfitting\n",
    "overfiting\n",
    "unit test\n",
    "exceptional handling"
   ]
  }
 ],
 "metadata": {
  "kernelspec": {
   "display_name": "Python 3 (ipykernel)",
   "language": "python",
   "name": "python3"
  },
  "language_info": {
   "codemirror_mode": {
    "name": "ipython",
    "version": 3
   },
   "file_extension": ".py",
   "mimetype": "text/x-python",
   "name": "python",
   "nbconvert_exporter": "python",
   "pygments_lexer": "ipython3",
   "version": "3.13.7"
  }
 },
 "nbformat": 4,
 "nbformat_minor": 5
}
