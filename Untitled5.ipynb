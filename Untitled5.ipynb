{
 "cells": [
  {
   "cell_type": "code",
   "execution_count": 8,
   "id": "8a803beb-cc7b-4649-a678-807ea13bfb6b",
   "metadata": {},
   "outputs": [
    {
     "name": "stdout",
     "output_type": "stream",
     "text": [
      "Regression equation: Y = 5.112 * X + 28.779\n",
      "\n",
      "Predicted Results:\n",
      "Hours_Study = 3.0, Predicted Marks = 44.11\n",
      "Hours_Study = 6.0, Predicted Marks = 59.45\n",
      "Hours_Study = 8.0, Predicted Marks = 69.67\n",
      "Hours_Study = 11.0, Predicted Marks = 85.01\n"
     ]
    }
   ],
   "source": [
    "# Step 1: Read training data\n",
    "with open(\"regression_training.csv\", \"r\") as f:\n",
    "    lines = f.readlines()\n",
    "\n",
    "header = lines[0].strip().split(\",\")\n",
    "x_index = header.index(\"Hours_Study\")\n",
    "y_index = header.index(\"Marks\")\n",
    "\n",
    "Hours_Study = []\n",
    "Marks = []\n",
    "\n",
    "for line in lines[1:]:\n",
    "    values = line.strip().split(\",\")\n",
    "    Hours_Study.append(float(values[x_index]))\n",
    "    Marks.append(float(values[y_index]))\n",
    "\n",
    "# Step 2: Calculate slope (m) and intercept (b)\n",
    "x_mean = sum(Hours_Study) / len(Hours_Study)\n",
    "y_mean = sum(Marks) / len(Marks)\n",
    "\n",
    "m_num = sum((Hours_Study[i] - x_mean) * (Marks[i] - y_mean) for i in range(len(Hours_Study)))\n",
    "m_den = sum((Hours_Study[i] - x_mean) ** 2 for i in range(len(Hours_Study)))\n",
    "m = m_num / m_den\n",
    "b = y_mean - m * x_mean\n",
    "\n",
    "print(\"Regression equation: Y =\", round(m, 3), \"* X +\", round(b, 3))\n",
    "\n",
    "# Step 3: Read test data\n",
    "with open(\"regression_test.csv\", \"r\") as f:\n",
    "    lines = f.readlines()\n",
    "\n",
    "header_test = lines[0].strip().split(\",\")\n",
    "x_index_test = header_test.index(\"Hours_Study\")\n",
    "\n",
    "test_hours = []\n",
    "for line in lines[1:]:\n",
    "    values = line.strip().split(\",\")\n",
    "    test_hours.append(float(values[x_index_test]))\n",
    "\n",
    "# Step 4: Predict Marks and print\n",
    "print(\"\\nPredicted Results:\")\n",
    "for x in test_hours:\n",
    "    y_pred = m * x + b\n",
    "    print(f\"Hours_Study = {x}, Predicted Marks = {round(y_pred, 2)}\")\n"
   ]
  },
  {
   "cell_type": "code",
   "execution_count": 7,
   "id": "812fe8d4-4acf-4127-95f8-22fef301c34c",
   "metadata": {},
   "outputs": [
    {
     "ename": "ValueError",
     "evalue": "could not convert string to float: '?'",
     "output_type": "error",
     "traceback": [
      "\u001b[31m---------------------------------------------------------------------------\u001b[39m",
      "\u001b[31mValueError\u001b[39m                                Traceback (most recent call last)",
      "\u001b[36mCell\u001b[39m\u001b[36m \u001b[39m\u001b[32mIn[7]\u001b[39m\u001b[32m, line 7\u001b[39m\n\u001b[32m      5\u001b[39m     values = line.strip().split(\u001b[33m\"\u001b[39m\u001b[33m,\u001b[39m\u001b[33m\"\u001b[39m)\n\u001b[32m      6\u001b[39m     Hours_Study.append(\u001b[38;5;28mfloat\u001b[39m(values[x_index]))\n\u001b[32m----> \u001b[39m\u001b[32m7\u001b[39m     Marks.append(\u001b[38;5;28;43mfloat\u001b[39;49m\u001b[43m(\u001b[49m\u001b[43mvalues\u001b[49m\u001b[43m[\u001b[49m\u001b[43my_index\u001b[49m\u001b[43m]\u001b[49m\u001b[43m)\u001b[49m)\n\u001b[32m      9\u001b[39m \u001b[38;5;66;03m# Step 2: Calculate slope (m) and intercept (b)\u001b[39;00m\n\u001b[32m     10\u001b[39m x_mean = \u001b[38;5;28msum\u001b[39m(Hours_Study) / \u001b[38;5;28mlen\u001b[39m(Hours_Study)\n",
      "\u001b[31mValueError\u001b[39m: could not convert string to float: '?'"
     ]
    }
   ],
   "source": [
    "Hours_Study = []\n",
    "Marks = []\n",
    "\n",
    "for line in lines[1:]:\n",
    "    values = line.strip().split(\",\")\n",
    "    Hours_Study.append(float(values[x_index]))\n",
    "    Marks.append(float(values[y_index]))\n",
    "\n",
    "# Step 2: Calculate slope (m) and intercept (b)\n",
    "x_mean = sum(Hours_Study) / len(Hours_Study)\n",
    "y_mean = sum(Marks) / len(Marks)\n",
    "\n",
    "m_num = sum((Hours_Study[i] - x_mean) * (Marks[i] - y_mean) for i in range(len(Hours_Study)))\n",
    "m_den = sum((Hours_Study[i] - x_mean) ** 2 for i in range(len(Hours_Study)))\n",
    "m = m_num / m_den\n",
    "b = y_mean - m * x_mean"
   ]
  },
  {
   "cell_type": "code",
   "execution_count": 1,
   "id": "7f2085e3-d286-46c8-b8b3-0d279c16cad2",
   "metadata": {},
   "outputs": [],
   "source": [
    "with open(\"regression_test.csv\", \"r\") as f:\n",
    "    lines = f.readlines()\n",
    "\n",
    "header_test = lines[0].strip().split(\",\")\n",
    "x_index_test = header_test.index(\"Hours_Study\")\n",
    "\n",
    "test_hours = []\n",
    "for line in lines[1:]:\n",
    "    values = line.strip().split(\",\")\n",
    "    test_hours.append(float(values[x_index_test]))"
   ]
  },
  {
   "cell_type": "code",
   "execution_count": 2,
   "id": "3514c7a7-2909-4a45-b923-5a687197bea1",
   "metadata": {},
   "outputs": [
    {
     "data": {
      "text/plain": [
       "[3.0, 6.0, 8.0, 11.0]"
      ]
     },
     "execution_count": 2,
     "metadata": {},
     "output_type": "execute_result"
    }
   ],
   "source": [
    "test_hours"
   ]
  },
  {
   "cell_type": "code",
   "execution_count": 4,
   "id": "b9333961-ac20-4d96-876b-65966b62a664",
   "metadata": {},
   "outputs": [
    {
     "name": "stdout",
     "output_type": "stream",
     "text": [
      "\n",
      "Predicted Results:\n"
     ]
    },
    {
     "ename": "NameError",
     "evalue": "name 'm' is not defined",
     "output_type": "error",
     "traceback": [
      "\u001b[31m---------------------------------------------------------------------------\u001b[39m",
      "\u001b[31mNameError\u001b[39m                                 Traceback (most recent call last)",
      "\u001b[36mCell\u001b[39m\u001b[36m \u001b[39m\u001b[32mIn[4]\u001b[39m\u001b[32m, line 3\u001b[39m\n\u001b[32m      1\u001b[39m \u001b[38;5;28mprint\u001b[39m(\u001b[33m\"\u001b[39m\u001b[38;5;130;01m\\n\u001b[39;00m\u001b[33mPredicted Results:\u001b[39m\u001b[33m\"\u001b[39m)\n\u001b[32m      2\u001b[39m \u001b[38;5;28;01mfor\u001b[39;00m x \u001b[38;5;129;01min\u001b[39;00m test_hours:\n\u001b[32m----> \u001b[39m\u001b[32m3\u001b[39m     y_pred = \u001b[43mm\u001b[49m * x + b\n\u001b[32m      4\u001b[39m     \u001b[38;5;28mprint\u001b[39m(\u001b[33mf\u001b[39m\u001b[33m\"\u001b[39m\u001b[33mHours_Study = \u001b[39m\u001b[38;5;132;01m{\u001b[39;00mx\u001b[38;5;132;01m}\u001b[39;00m\u001b[33m, Predicted Marks = \u001b[39m\u001b[38;5;132;01m{\u001b[39;00m\u001b[38;5;28mround\u001b[39m(y_pred,\u001b[38;5;250m \u001b[39m\u001b[32m2\u001b[39m)\u001b[38;5;132;01m}\u001b[39;00m\u001b[33m\"\u001b[39m)\n",
      "\u001b[31mNameError\u001b[39m: name 'm' is not defined"
     ]
    }
   ],
   "source": [
    "print(\"\\nPredicted Results:\")\n",
    "for x in test_hours:\n",
    "    y_pred = m * x + b\n",
    "    print(f\"Hours_Study = {x}, Predicted Marks = {round(y_pred, 2)}\")"
   ]
  },
  {
   "cell_type": "code",
   "execution_count": null,
   "id": "d4317284-f522-42ae-bd38-d220444cccbd",
   "metadata": {},
   "outputs": [],
   "source": []
  }
 ],
 "metadata": {
  "kernelspec": {
   "display_name": "Python 3 (ipykernel)",
   "language": "python",
   "name": "python3"
  },
  "language_info": {
   "codemirror_mode": {
    "name": "ipython",
    "version": 3
   },
   "file_extension": ".py",
   "mimetype": "text/x-python",
   "name": "python",
   "nbconvert_exporter": "python",
   "pygments_lexer": "ipython3",
   "version": "3.13.7"
  }
 },
 "nbformat": 4,
 "nbformat_minor": 5
}
