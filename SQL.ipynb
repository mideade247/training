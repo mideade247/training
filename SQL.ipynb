{
 "cells": [
  {
   "cell_type": "code",
   "execution_count": 1,
   "id": "8f86f8b6-abbd-4325-94d2-1d5d89f75051",
   "metadata": {},
   "outputs": [],
   "source": [
    "import sqlite3"
   ]
  },
  {
   "cell_type": "raw",
   "id": "e05d0b2a-ca67-42b1-8c6d-0c29e4ef2580",
   "metadata": {},
   "source": [
    "A lightweight, serverless, self-contained SQL database engine.\n",
    "\n",
    "Stores the entire database in a single file on disk (.db or .sqlite).\n",
    "\n",
    "Very popular for small to medium applications, testing, prototyping, or embedded systems."
   ]
  },
  {
   "cell_type": "code",
   "execution_count": 2,
   "id": "ae7a6db8-2e2b-46f5-a839-f92f831e9e49",
   "metadata": {},
   "outputs": [],
   "source": [
    "conn = sqlite3.connect(\"mysql.db\")"
   ]
  },
  {
   "cell_type": "markdown",
   "id": "45dfe869-3387-4f6b-bbae-b985565172f3",
   "metadata": {},
   "source": [
    "SQL sever:\n",
    "multiple Database\n",
    "each we can \n",
    "create multiple Table \n",
    "\n",
    "each table\n",
    "columns name \n",
    "row "
   ]
  },
  {
   "cell_type": "code",
   "execution_count": 3,
   "id": "47eec574-115e-445e-8b11-628452949b5d",
   "metadata": {},
   "outputs": [],
   "source": [
    "cusor = conn.cursor()"
   ]
  },
  {
   "cell_type": "code",
   "execution_count": 4,
   "id": "d84d3af0-b5bb-4d56-9997-6eb4dcffb246",
   "metadata": {},
   "outputs": [
    {
     "data": {
      "text/plain": [
       "<sqlite3.Cursor at 0x2657a99c8c0>"
      ]
     },
     "execution_count": 4,
     "metadata": {},
     "output_type": "execute_result"
    }
   ],
   "source": [
    "cusor.execute(\"\"\" \n",
    "\n",
    "    CREATE TABLE student(\n",
    "       st_id INTEGER, \n",
    "       st_name TEXT, \n",
    "       st_marks DECIMAL, \n",
    "       st_subjects TEXT\n",
    "    \n",
    "    )\n",
    "\"\"\")"
   ]
  },
  {
   "cell_type": "code",
   "execution_count": 5,
   "id": "66ed9812-ed2d-4a77-aa23-d102bb989033",
   "metadata": {},
   "outputs": [
    {
     "data": {
      "text/plain": [
       "<sqlite3.Cursor at 0x2657a99c8c0>"
      ]
     },
     "execution_count": 5,
     "metadata": {},
     "output_type": "execute_result"
    }
   ],
   "source": [
    "cusor.execute(\"select  name from sqlite_master where type='table';\")"
   ]
  },
  {
   "cell_type": "raw",
   "id": "d934f402-c89c-42a5-bb45-d5aa2fafd190",
   "metadata": {},
   "source": [
    "sqlite_master is a special table that stores metadata about the database schema."
   ]
  },
  {
   "cell_type": "code",
   "execution_count": 6,
   "id": "9c0b6e3b-8267-49d0-8e17-bbf10776c4aa",
   "metadata": {},
   "outputs": [
    {
     "data": {
      "text/plain": [
       "[('student',)]"
      ]
     },
     "execution_count": 6,
     "metadata": {},
     "output_type": "execute_result"
    }
   ],
   "source": [
    "cusor.fetchall()"
   ]
  },
  {
   "cell_type": "code",
   "execution_count": 7,
   "id": "3b352e39-44f5-4435-b796-7a662f826e49",
   "metadata": {},
   "outputs": [],
   "source": [
    "stud_data = [(1, \"ali\", 45, \"chem\"), (3, \"ahmed\", 56, \"phy\"), (5, \"basit\", 78, \"math\")] "
   ]
  },
  {
   "cell_type": "code",
   "execution_count": 16,
   "id": "c667bfe7-71e2-4c30-b5cb-a2fcae48093e",
   "metadata": {},
   "outputs": [
    {
     "data": {
      "text/plain": [
       "[(1, 'ali', 45, 'chem'), (3, 'ahmed', 56, 'phy'), (5, 'basit', 78, 'math')]"
      ]
     },
     "execution_count": 16,
     "metadata": {},
     "output_type": "execute_result"
    }
   ],
   "source": [
    "stud_data"
   ]
  },
  {
   "cell_type": "code",
   "execution_count": 9,
   "id": "21527ef7-f776-4a8c-aa3d-eb2aaaa3d113",
   "metadata": {},
   "outputs": [
    {
     "data": {
      "text/plain": [
       "<sqlite3.Cursor at 0x2657a99c8c0>"
      ]
     },
     "execution_count": 9,
     "metadata": {},
     "output_type": "execute_result"
    }
   ],
   "source": [
    "cusor.executemany(\"INSERT INTO student (st_id,st_name, st_marks, st_subjects) VALUES (?, ? , ? ,?)\", stud_data)"
   ]
  },
  {
   "cell_type": "raw",
   "id": "5d07be6f-3217-477e-b692-1e64e8b8171e",
   "metadata": {},
   "source": [
    "? placeholders: these are parameters that will be replaced by values from stud_data.\n",
    "\n",
    "stud_data: should be a list of tuples (or other iterable) containing the actual values."
   ]
  },
  {
   "cell_type": "code",
   "execution_count": 18,
   "id": "e90ddbbc-2de5-4aeb-91eb-8857e8a6d620",
   "metadata": {},
   "outputs": [
    {
     "data": {
      "text/plain": [
       "[(1, 'irfan', 45, 'chem'), (3, 'ahmed', 56, 'phy'), (5, 'basit', 78, 'math')]"
      ]
     },
     "execution_count": 18,
     "metadata": {},
     "output_type": "execute_result"
    }
   ],
   "source": [
    "cusor.execute(\"select * from student\").fetchall()"
   ]
  },
  {
   "cell_type": "code",
   "execution_count": 20,
   "id": "d01c3c9e-13c1-4b98-9a27-c4b5a7265a9e",
   "metadata": {},
   "outputs": [
    {
     "data": {
      "text/plain": [
       "<sqlite3.Cursor at 0x2657a99c8c0>"
      ]
     },
     "execution_count": 20,
     "metadata": {},
     "output_type": "execute_result"
    }
   ],
   "source": [
    "cusor.execute(\"select * from student where st_marks > 53\")"
   ]
  },
  {
   "cell_type": "code",
   "execution_count": 21,
   "id": "b5de249c-979f-4718-beb5-e94012b05368",
   "metadata": {},
   "outputs": [
    {
     "data": {
      "text/plain": [
       "[(3, 'ahmed', 56, 'phy'), (5, 'basit', 78, 'math')]"
      ]
     },
     "execution_count": 21,
     "metadata": {},
     "output_type": "execute_result"
    }
   ],
   "source": [
    "cusor.fetchall()"
   ]
  },
  {
   "cell_type": "code",
   "execution_count": 22,
   "id": "46d442ae-2fd5-4b82-960a-1e7c5d977e1d",
   "metadata": {},
   "outputs": [
    {
     "data": {
      "text/plain": [
       "(3, 59.666666666666664)"
      ]
     },
     "execution_count": 22,
     "metadata": {},
     "output_type": "execute_result"
    }
   ],
   "source": [
    "cusor.execute(\"select COUNT(*), AVG(st_marks) from student\").fetchone()"
   ]
  },
  {
   "cell_type": "raw",
   "id": "25ba4472-69a5-4595-8984-06238fb504c5",
   "metadata": {},
   "source": [
    "COUNT(*) → counts how many rows are in the student table."
   ]
  },
  {
   "cell_type": "code",
   "execution_count": 23,
   "id": "c85f2369-fb1b-41a8-8fb8-3315ccaa8805",
   "metadata": {},
   "outputs": [
    {
     "data": {
      "text/plain": [
       "<sqlite3.Cursor at 0x2657a99c8c0>"
      ]
     },
     "execution_count": 23,
     "metadata": {},
     "output_type": "execute_result"
    }
   ],
   "source": [
    "cusor.execute(\"UPDATE student set st_name='irfan' where st_id=1\")"
   ]
  },
  {
   "cell_type": "code",
   "execution_count": 24,
   "id": "4c0a9c52-82ed-4f9c-8a19-8006a65a5988",
   "metadata": {},
   "outputs": [
    {
     "data": {
      "text/plain": [
       "[(1, 'irfan', 45, 'chem'), (3, 'ahmed', 56, 'phy'), (5, 'basit', 78, 'math')]"
      ]
     },
     "execution_count": 24,
     "metadata": {},
     "output_type": "execute_result"
    }
   ],
   "source": [
    "cusor.execute(\" select * from student\").fetchall()"
   ]
  },
  {
   "cell_type": "code",
   "execution_count": null,
   "id": "cf767827-da13-4564-876c-f9321685e379",
   "metadata": {},
   "outputs": [],
   "source": []
  },
  {
   "cell_type": "code",
   "execution_count": null,
   "id": "97933a94-8ab5-42e7-adbb-5da7517e3bb5",
   "metadata": {},
   "outputs": [],
   "source": []
  }
 ],
 "metadata": {
  "kernelspec": {
   "display_name": "Python 3 (ipykernel)",
   "language": "python",
   "name": "python3"
  },
  "language_info": {
   "codemirror_mode": {
    "name": "ipython",
    "version": 3
   },
   "file_extension": ".py",
   "mimetype": "text/x-python",
   "name": "python",
   "nbconvert_exporter": "python",
   "pygments_lexer": "ipython3",
   "version": "3.13.7"
  }
 },
 "nbformat": 4,
 "nbformat_minor": 5
}
