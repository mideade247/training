{
 "cells": [
  {
   "cell_type": "markdown",
   "id": "65658f27-c4ff-4070-8f60-f398cd20805c",
   "metadata": {},
   "source": [
    "# Workflow for SQL Query"
   ]
  },
  {
   "cell_type": "raw",
   "id": "227608a8-82a2-4a0c-b615-4400384ef946",
   "metadata": {},
   "source": [
    "1. Import packages and functions\n",
    "2. Create the database engine\n",
    "3. Connect to the ENGINE\n",
    "4. Query the databse\n",
    "5. Save Query Result to a Dataframe\n",
    "6. Close the conection"
   ]
  },
  {
   "cell_type": "code",
   "execution_count": 1,
   "id": "c53f4c77-967c-48c4-bb43-e99835205f80",
   "metadata": {},
   "outputs": [],
   "source": [
    "import sqlite3\n",
    "import pandas as pd"
   ]
  },
  {
   "cell_type": "code",
   "execution_count": 2,
   "id": "eca73cf3-257d-44e0-a485-e12681f137c0",
   "metadata": {},
   "outputs": [],
   "source": [
    "con = sqlite3.connect(\"tutorial.db\")  #connection to the on-disk database"
   ]
  },
  {
   "cell_type": "code",
   "execution_count": 24,
   "id": "f8d9bed0-8bd9-41e5-b511-65d29d8f0429",
   "metadata": {},
   "outputs": [],
   "source": [
    "cur = con.cursor()  #to access sql query"
   ]
  },
  {
   "cell_type": "code",
   "execution_count": 32,
   "id": "97114cd4-f086-467b-a776-359f7aaa390c",
   "metadata": {},
   "outputs": [
    {
     "data": {
      "text/plain": [
       "<sqlite3.Cursor at 0x1df7266c540>"
      ]
     },
     "execution_count": 32,
     "metadata": {},
     "output_type": "execute_result"
    }
   ],
   "source": [
    "# import sqlite3\n",
    "# conn = sqlite3.connect(\"mydb.sqlite\", isolation_level=None)  \n",
    "# cur = conn.cursor()\n",
    "\n",
    "# cur.execute(\"DROP TABLE IF EXISTS movie\")\n"
   ]
  },
  {
   "cell_type": "code",
   "execution_count": 33,
   "id": "267b65be-3c4e-4d3e-9721-a6f85f69e48f",
   "metadata": {},
   "outputs": [
    {
     "data": {
      "text/plain": [
       "<sqlite3.Cursor at 0x1df7266c540>"
      ]
     },
     "execution_count": 33,
     "metadata": {},
     "output_type": "execute_result"
    }
   ],
   "source": [
    "cur.execute(\"CREATE TABLE movie(title, year, score)\")"
   ]
  },
  {
   "cell_type": "code",
   "execution_count": 34,
   "id": "d1ac1e26-2b8e-47da-a4f1-158c67c08112",
   "metadata": {},
   "outputs": [],
   "source": [
    "r = cur.execute(\"SELECT name from sqlite_master\")"
   ]
  },
  {
   "cell_type": "code",
   "execution_count": null,
   "id": "c05b02a0-f425-4e47-b2f1-8c6f4269baa5",
   "metadata": {},
   "outputs": [],
   "source": []
  },
  {
   "cell_type": "code",
   "execution_count": 35,
   "id": "a38c7f72-fa4e-417e-86ff-7ed056a3d32a",
   "metadata": {},
   "outputs": [
    {
     "data": {
      "text/plain": [
       "('movie',)"
      ]
     },
     "execution_count": 35,
     "metadata": {},
     "output_type": "execute_result"
    }
   ],
   "source": [
    "r.fetchone()"
   ]
  },
  {
   "cell_type": "code",
   "execution_count": 36,
   "id": "94924da5-233d-4aa2-8f1c-3938d4515e89",
   "metadata": {},
   "outputs": [],
   "source": [
    "r = cur.execute(\"SELECT name FROM sqlite_master WHERE name = 'spam' \")\n",
    "r.fetchone()"
   ]
  },
  {
   "cell_type": "code",
   "execution_count": 37,
   "id": "af7fedb5-fe52-4dd8-991f-28e931c6c91e",
   "metadata": {},
   "outputs": [],
   "source": [
    "r= cur.execute(\"\"\"\n",
    "            INSERT INTO movie VALUES\n",
    "            ('Sex on the beach' , 1986, 6.7),\n",
    "            ('Ball Gazer', 1987, 9.5)\n",
    "\"\"\")\n"
   ]
  },
  {
   "cell_type": "code",
   "execution_count": 38,
   "id": "8f7cb50a-933c-4403-8ed3-920d265ee5b2",
   "metadata": {},
   "outputs": [],
   "source": [
    "\n",
    "r = cur.execute(\"SELECT score FROM movie\")\n"
   ]
  },
  {
   "cell_type": "code",
   "execution_count": 39,
   "id": "70b53212-1043-46e4-928c-07c4082db6d1",
   "metadata": {},
   "outputs": [
    {
     "data": {
      "text/plain": [
       "[(6.7,), (9.5,)]"
      ]
     },
     "execution_count": 39,
     "metadata": {},
     "output_type": "execute_result"
    }
   ],
   "source": [
    "r.fetchall()"
   ]
  },
  {
   "cell_type": "code",
   "execution_count": 41,
   "id": "6875a3bb-e75f-4910-b1b8-373a66d0f2f7",
   "metadata": {},
   "outputs": [
    {
     "data": {
      "text/plain": [
       "<sqlite3.Cursor at 0x1df7266c540>"
      ]
     },
     "execution_count": 41,
     "metadata": {},
     "output_type": "execute_result"
    }
   ],
   "source": [
    "data = [ \n",
    "        (\"Titanic\" , 1986, 9.0),\n",
    "        (\"Banabara\", 1978, 8.5),\n",
    "        (\"Japan in Surrey\", 1944, 7.6)\n",
    "    \n",
    "]\n",
    "cur.executemany(\"INSERT INTO movie VALUES(?, ?, ?)\", data) #many cos of many variables involvce"
   ]
  },
  {
   "cell_type": "code",
   "execution_count": 45,
   "id": "bd03a436-3bef-4c0a-a185-09a9cbb1b17b",
   "metadata": {},
   "outputs": [
    {
     "name": "stdout",
     "output_type": "stream",
     "text": [
      "[(1944, 'Japan in Surrey')]\n",
      "[(1978, 'Banabara')]\n",
      "[(1986, 'Sex on the beach')]\n",
      "[(1986, 'Titanic')]\n",
      "[(1987, 'Ball Gazer')]\n"
     ]
    }
   ],
   "source": [
    "for row in cur.execute(\"SELECT year, title from movie order by year\"):\n",
    "    print ([row])"
   ]
  },
  {
   "cell_type": "code",
   "execution_count": 47,
   "id": "70aea6d1-a2e5-476c-ae07-c66c9d073bc3",
   "metadata": {},
   "outputs": [
    {
     "data": {
      "text/plain": [
       "<function Connection.close()>"
      ]
     },
     "execution_count": 47,
     "metadata": {},
     "output_type": "execute_result"
    }
   ],
   "source": [
    "con.commit # to close or save the transaction\n",
    "con.close "
   ]
  },
  {
   "cell_type": "markdown",
   "id": "3a03ffea-3d93-4252-b2ab-426af6b4a30d",
   "metadata": {},
   "source": [
    "# Another Example"
   ]
  },
  {
   "cell_type": "code",
   "execution_count": null,
   "id": "b7b21d07-0cc4-438a-ae0b-1e022eaeaa21",
   "metadata": {},
   "outputs": [],
   "source": []
  }
 ],
 "metadata": {
  "kernelspec": {
   "display_name": "Python 3 (ipykernel)",
   "language": "python",
   "name": "python3"
  },
  "language_info": {
   "codemirror_mode": {
    "name": "ipython",
    "version": 3
   },
   "file_extension": ".py",
   "mimetype": "text/x-python",
   "name": "python",
   "nbconvert_exporter": "python",
   "pygments_lexer": "ipython3",
   "version": "3.13.7"
  }
 },
 "nbformat": 4,
 "nbformat_minor": 5
}
